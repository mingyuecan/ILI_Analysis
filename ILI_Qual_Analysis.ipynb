{
 "cells": [
  {
   "cell_type": "code",
   "execution_count": 1,
   "metadata": {
    "collapsed": true
   },
   "outputs": [],
   "source": [
    "import re\n",
    "import nltk\n",
    "import collections\n",
    "from nltk.corpus import webtext\n",
    "from nltk.corpus import stopwords\n",
    "from nltk import word_tokenize, pos_tag\n",
    "from nltk.stem import WordNetLemmatizer\n",
    "import matplotlib.pyplot as plt\n",
    "from wordcloud import WordCloud"
   ]
  },
  {
   "cell_type": "code",
   "execution_count": 2,
   "metadata": {
    "collapsed": true
   },
   "outputs": [],
   "source": [
    "file='/Users/Cindy/Downloads/Self-Knowledge.txt'"
   ]
  },
  {
   "cell_type": "code",
   "execution_count": 3,
   "metadata": {
    "collapsed": true
   },
   "outputs": [],
   "source": [
    "## tokenize file\n",
    "def tokenize(corpus, fileID):\n",
    "    '''\n",
    "    Tokenizes the, casting all words to lower case, stripping out punctuation marks, spaces,\n",
    "    and words not made of one or more alphanumerical characters.\n",
    "    \n",
    "    Parameters\n",
    "    ----------\n",
    "    corpus: An NLTK corpus\n",
    "    fileID: A string\n",
    "    \n",
    "    Returns\n",
    "    -------\n",
    "    words: a list of strings\n",
    "    '''\n",
    "    \n",
    "    words=[word.lower() for word in corpus.words(fileID)]\n",
    "    pattern = re.compile(r'[^\\w\\s]')\n",
    "    words= [i for i in words if not pattern.match(i)]\n",
    "    return words\n",
    "\n",
    "new = tokenize(webtext, file)\n",
    "\n",
    "## Delete stop words\n",
    "stop_words = set(stopwords.words('english'))\n",
    "filtered = [w for w in new if not w in stop_words]\n",
    "\n",
    "## lemmatization\n",
    "lemma = WordNetLemmatizer()\n",
    "lem = map(lemma.lemmatize, filtered)\n",
    "final=list(lem)\n",
    "\n",
    "## Tag words\n",
    "def tag_tx_ext(tokens,n):\n",
    "    '''\n",
    "    Takes in tokens and returns a list of tokens that are either nouns\n",
    "    or verbs as well as a list of tuples of the most common adjectives\n",
    "    or nouns with their number of occurances.\n",
    "    \n",
    "    Parameters\n",
    "    ----------\n",
    "    tokens: A list of strings.\n",
    "    n: An integer.\n",
    "    \n",
    "    Returns\n",
    "    -------\n",
    "    A tuple of ext_tag and common where these two arguments have the following\n",
    "    structure:\n",
    "    ext_tag: A list of strings.\n",
    "    common: A list of tuples of the form (str, int)\n",
    "    '''\n",
    "    \n",
    "    rgxs = re.compile(r'(NN)')\n",
    "    ptgs = pos_tag(tokens)\n",
    "    trms = [tkn[0] for tkn in ptgs if re.match(rgxs, tkn[1])]\n",
    "    common=collections.Counter(trms).most_common(n)\n",
    "    return trms,common"
   ]
  },
  {
   "cell_type": "code",
   "execution_count": 4,
   "metadata": {
    "collapsed": true
   },
   "outputs": [],
   "source": [
    "## Get results\n",
    "ex_tags, com = tag_tx_ext(final, 30)"
   ]
  },
  {
   "cell_type": "code",
   "execution_count": 5,
   "metadata": {
    "collapsed": true
   },
   "outputs": [],
   "source": [
    "comd=dict(com)"
   ]
  },
  {
   "cell_type": "code",
   "execution_count": 16,
   "metadata": {
    "collapsed": true
   },
   "outputs": [],
   "source": [
    "wordcloud = WordCloud(background_color=\"white\",width=1000, height=600).generate_from_frequencies(comd)"
   ]
  },
  {
   "cell_type": "code",
   "execution_count": null,
   "metadata": {},
   "outputs": [],
   "source": [
    "plt.figure()\n",
    "plt.imshow(wordcloud,interpolation=\"bilinear\")\n",
    "plt.axis(\"off\")\n",
    "plt.savefig('selfknowledge')\n",
    "plt.show()"
   ]
  },
  {
   "cell_type": "code",
   "execution_count": null,
   "metadata": {
    "collapsed": true
   },
   "outputs": [],
   "source": []
  }
 ],
 "metadata": {
  "kernelspec": {
   "display_name": "Python 3",
   "language": "python",
   "name": "python3"
  },
  "language_info": {
   "codemirror_mode": {
    "name": "ipython",
    "version": 3
   },
   "file_extension": ".py",
   "mimetype": "text/x-python",
   "name": "python",
   "nbconvert_exporter": "python",
   "pygments_lexer": "ipython3",
   "version": "3.6.3"
  }
 },
 "nbformat": 4,
 "nbformat_minor": 2
}
